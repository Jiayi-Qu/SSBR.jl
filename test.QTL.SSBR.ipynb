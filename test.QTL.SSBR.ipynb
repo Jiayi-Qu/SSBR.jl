{
 "cells": [
  {
   "cell_type": "code",
   "execution_count": 1,
   "metadata": {
    "collapsed": false
   },
   "outputs": [
    {
     "data": {
      "text/plain": [
       "QTL"
      ]
     },
     "execution_count": 1,
     "metadata": {},
     "output_type": "execute_result"
    }
   ],
   "source": [
    "include(\"QTL.jl/src/QTL.jl\")"
   ]
  },
  {
   "cell_type": "code",
   "execution_count": 2,
   "metadata": {
    "collapsed": false
   },
   "outputs": [
    {
     "data": {
      "text/plain": [
       "SSBR"
      ]
     },
     "execution_count": 2,
     "metadata": {},
     "output_type": "execute_result"
    }
   ],
   "source": [
    "include(\"SSBR.jl/src/SSBR.jl\")"
   ]
  },
  {
   "cell_type": "code",
   "execution_count": 3,
   "metadata": {
    "collapsed": false
   },
   "outputs": [],
   "source": [
    "using QTL"
   ]
  },
  {
   "cell_type": "code",
   "execution_count": 4,
   "metadata": {
    "collapsed": true
   },
   "outputs": [],
   "source": [
    "using SSBR"
   ]
  },
  {
   "cell_type": "code",
   "execution_count": 5,
   "metadata": {
    "collapsed": false
   },
   "outputs": [
    {
     "data": {
      "text/plain": [
       "QTL.InputParameters(\"BayesC\",50000,0.95,1.0,1.0,true,false,false,4.0,4.0)"
      ]
     },
     "execution_count": 5,
     "metadata": {},
     "output_type": "execute_result"
    }
   ],
   "source": [
    "input=InputParameters()"
   ]
  },
  {
   "cell_type": "code",
   "execution_count": 15,
   "metadata": {
    "collapsed": false
   },
   "outputs": [],
   "source": [
    "input.varGenotypic = 2.0\n",
    "input.varResidual  = 2.0\n",
    "input.estimateVariance = false;\n",
    "input.probFixed = 0.0;"
   ]
  },
  {
   "cell_type": "code",
   "execution_count": 16,
   "metadata": {
    "collapsed": false
   },
   "outputs": [],
   "source": [
    "ped,geno,hmats =SSBR.make_matrices_hybrid(\"SSBR.jl/example/ped.txt\",\"SSBR.jl/example/genotype.txt\",\"SSBR.jl/example/phenotype.txt\");"
   ]
  },
  {
   "cell_type": "code",
   "execution_count": 17,
   "metadata": {
    "collapsed": false
   },
   "outputs": [],
   "source": [
    "fixed=FixedMatrix(ones(90,1),[0]);"
   ]
  },
  {
   "cell_type": "code",
   "execution_count": 18,
   "metadata": {
    "collapsed": false
   },
   "outputs": [
    {
     "name": "stdout",
     "output_type": "stream",
     "text": [
      "running BayesC with a MCMC of length 50000\n",
      "This is iteration 5000\n",
      "This is iteration 10000\n",
      "This is iteration 15000\n",
      "This is iteration 20000\n",
      "This is iteration 25000\n",
      "This is iteration 30000\n",
      "This is iteration 35000\n",
      "This is iteration 40000\n",
      "This is iteration 45000\n",
      "This is iteration 50000"
     ]
    },
    {
     "data": {
      "text/html": [
       "<table class=\"data-frame\"><tr><th></th><th>ID</th><th>EBV</th></tr><tr><th>1</th><td>264</td><td>-0.04073707499363155</td></tr><tr><th>2</th><td>217</td><td>-1.5023426080683373</td></tr><tr><th>3</th><td>236</td><td>-0.0791987651133588</td></tr><tr><th>4</th><td>296</td><td>0.1166918026980065</td></tr><tr><th>5</th><td>299</td><td>0.09815997916308224</td></tr><tr><th>6</th><td>228</td><td>-0.2518386020803599</td></tr><tr><th>7</th><td>270</td><td>0.17921786175474708</td></tr><tr><th>8</th><td>227</td><td>-0.8588038796527193</td></tr><tr><th>9</th><td>290</td><td>0.12912310709101188</td></tr><tr><th>10</th><td>223</td><td>0.7469495848584029</td></tr><tr><th>11</th><td>287</td><td>0.1577564579496258</td></tr><tr><th>12</th><td>213</td><td>-2.2127555875478797</td></tr><tr><th>13</th><td>297</td><td>0.11854427854453889</td></tr><tr><th>14</th><td>278</td><td>0.03802849689998216</td></tr><tr><th>15</th><td>214</td><td>-0.41582220720013824</td></tr><tr><th>16</th><td>289</td><td>0.10280022491614098</td></tr><tr><th>17</th><td>250</td><td>0.43610786225595116</td></tr><tr><th>18</th><td>224</td><td>-0.4497190413469574</td></tr><tr><th>19</th><td>230</td><td>1.155960846859046</td></tr><tr><th>20</th><td>265</td><td>0.41874061570550747</td></tr><tr><th>21</th><td>215</td><td>0.6028483868847241</td></tr><tr><th>22</th><td>281</td><td>0.11834867147083063</td></tr><tr><th>23</th><td>258</td><td>0.09838420664291135</td></tr><tr><th>24</th><td>255</td><td>0.48721734693695384</td></tr><tr><th>25</th><td>218</td><td>-2.2128072385348374</td></tr><tr><th>26</th><td>275</td><td>0.13631651811643417</td></tr><tr><th>27</th><td>274</td><td>0.03804523773988187</td></tr><tr><th>28</th><td>280</td><td>0.0692325142189794</td></tr><tr><th>29</th><td>253</td><td>0.40136689504462264</td></tr><tr><th>30</th><td>234</td><td>-0.6542591871389334</td></tr><tr><th>&vellip;</th><td>&vellip;</td><td>&vellip;</td></tr></table>"
      ],
      "text/plain": [
       "100x2 DataFrames.DataFrame\n",
       "| Row | ID    | EBV        |\n",
       "|-----|-------|------------|\n",
       "| 1   | \"264\" | -0.0407371 |\n",
       "| 2   | \"217\" | -1.50234   |\n",
       "| 3   | \"236\" | -0.0791988 |\n",
       "| 4   | \"296\" | 0.116692   |\n",
       "| 5   | \"299\" | 0.09816    |\n",
       "| 6   | \"228\" | -0.251839  |\n",
       "| 7   | \"270\" | 0.179218   |\n",
       "| 8   | \"227\" | -0.858804  |\n",
       "| 9   | \"290\" | 0.129123   |\n",
       "| 10  | \"223\" | 0.74695    |\n",
       "| 11  | \"287\" | 0.157756   |\n",
       "⋮\n",
       "| 89  | \"262\" | -0.040752  |\n",
       "| 90  | \"232\" | 0.95139    |\n",
       "| 91  | \"203\" | 1.6209     |\n",
       "| 92  | \"205\" | -1.59479   |\n",
       "| 93  | \"201\" | 1.98265    |\n",
       "| 94  | \"208\" | 1.27181    |\n",
       "| 95  | \"209\" | -0.77696   |\n",
       "| 96  | \"202\" | -1.61126   |\n",
       "| 97  | \"204\" | -2.22777   |\n",
       "| 98  | \"206\" | -2.81425   |\n",
       "| 99  | \"207\" | 2.35237    |\n",
       "| 100 | \"210\" | 1.79729    |"
      ]
     },
     "execution_count": 18,
     "metadata": {},
     "output_type": "execute_result"
    },
    {
     "name": "stdout",
     "output_type": "stream",
     "text": [
      "\n"
     ]
    }
   ],
   "source": [
    "ssGibbs(hmats,geno,fixed,ped,input)"
   ]
  }
 ],
 "metadata": {
  "kernelspec": {
   "display_name": "Julia 0.4.0",
   "language": "julia",
   "name": "julia-0.4"
  },
  "language_info": {
   "file_extension": ".jl",
   "mimetype": "application/julia",
   "name": "julia",
   "version": "0.4.0"
  }
 },
 "nbformat": 4,
 "nbformat_minor": 0
}
