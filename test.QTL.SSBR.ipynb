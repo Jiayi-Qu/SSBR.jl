{
 "cells": [
  {
   "cell_type": "code",
   "execution_count": 1,
   "metadata": {
    "collapsed": false
   },
   "outputs": [
    {
     "data": {
      "text/plain": [
       "QTL"
      ]
     },
     "execution_count": 1,
     "metadata": {},
     "output_type": "execute_result"
    }
   ],
   "source": [
    "include(\"../QTL.jl/src/QTL.jl\")"
   ]
  },
  {
   "cell_type": "code",
   "execution_count": 2,
   "metadata": {
    "collapsed": false
   },
   "outputs": [
    {
     "data": {
      "text/plain": [
       "SSBR"
      ]
     },
     "execution_count": 2,
     "metadata": {},
     "output_type": "execute_result"
    }
   ],
   "source": [
    "include(\"../SSBR.jl/src/SSBR.jl\")"
   ]
  },
  {
   "cell_type": "code",
   "execution_count": 3,
   "metadata": {
    "collapsed": false
   },
   "outputs": [],
   "source": [
    "using QTL"
   ]
  },
  {
   "cell_type": "code",
   "execution_count": 4,
   "metadata": {
    "collapsed": false
   },
   "outputs": [],
   "source": [
    "using SSBR"
   ]
  },
  {
   "cell_type": "code",
   "execution_count": 5,
   "metadata": {
    "collapsed": false
   },
   "outputs": [
    {
     "data": {
      "text/plain": [
       "\"../SSBR.jl/\""
      ]
     },
     "execution_count": 5,
     "metadata": {},
     "output_type": "execute_result"
    }
   ],
   "source": [
    "#file=\"/Users/haocheng/.julia/v0.4/SSBR/\"\n",
    "file=\"../SSBR.jl/\""
   ]
  },
  {
   "cell_type": "code",
   "execution_count": 6,
   "metadata": {
    "collapsed": false
   },
   "outputs": [
    {
     "data": {
      "text/plain": [
       "QTL.InputParameters(\"BayesC\",50000,0.95,1.0,1.0,true,false,false,4.0,4.0,4.0)"
      ]
     },
     "execution_count": 6,
     "metadata": {},
     "output_type": "execute_result"
    }
   ],
   "source": [
    "input=InputParameters()"
   ]
  },
  {
   "cell_type": "code",
   "execution_count": 7,
   "metadata": {
    "collapsed": false
   },
   "outputs": [
    {
     "data": {
      "text/plain": [
       "50000"
      ]
     },
     "execution_count": 7,
     "metadata": {},
     "output_type": "execute_result"
    }
   ],
   "source": [
    "input.varGenotypic = 1.0\n",
    "input.varResidual  = 1.0\n",
    "input.estimateVariance = true;\n",
    "input.probFixed = 0.0;\n",
    "input.dfEffectVar = 4.0;\n",
    "input.nuRes = 4.0;\n",
    "input.chainLength=50000"
   ]
  },
  {
   "cell_type": "code",
   "execution_count": 8,
   "metadata": {
    "collapsed": false
   },
   "outputs": [],
   "source": [
    "fixed=FixedMatrix(ones(90,1),[0]);"
   ]
  },
  {
   "cell_type": "code",
   "execution_count": 9,
   "metadata": {
    "collapsed": false
   },
   "outputs": [],
   "source": [
    "ped,geno,hmats =SSBR.make_matrices_hybrid(file*\"example/ped.txt\",file*\"example/genotype.txt\",file*\"example/phenotype.txt\");"
   ]
  },
  {
   "cell_type": "code",
   "execution_count": 10,
   "metadata": {
    "collapsed": false
   },
   "outputs": [
    {
     "name": "stdout",
     "output_type": "stream",
     "text": [
      "running BayesC with a MCMC of length 50000\n",
      "This is iteration 10000 with mean residual variance 15.622729619481344 and mean marker variance 1.3310292979382436 and mean genetic variance 0.4834721964392422\n",
      "This is iteration 20000 with mean residual variance 15.5804209844742 and mean marker variance 1.3261788328549753 and mean genetic variance 0.48601135216466435\n",
      "This is iteration 30000 with mean residual variance 15.58099809788568 and mean marker variance 1.332705961705237 and mean genetic variance 0.4828038183243039\n",
      "This is iteration 40000 with mean residual variance 15.585088693494251 and mean marker variance 1.3332296694209476 and mean genetic variance 0.47067001400034114\n",
      "This is iteration 50000"
     ]
    }
   ],
   "source": [
    "out =SSBR.ssBayesC0(hmats,geno,fixed,ped,input,outFreq=10000);"
   ]
  },
  {
   "cell_type": "code",
   "execution_count": 11,
   "metadata": {
    "collapsed": false
   },
   "outputs": [
    {
     "name": "stdout",
     "output_type": "stream",
     "text": [
      " with mean residual variance 15.59634493624558 and mean marker variance 1.335756231226563 and mean genetic variance 0.4663258059432949\n",
      "running BayesC with a MCMC of length 50000\n",
      "This is iteration 5000\n",
      "This is iteration 10000\n",
      "This is iteration 15000\n",
      "This is iteration 20000\n",
      "This is iteration 25000\n",
      "This is iteration 30000\n",
      "This is iteration 35000\n",
      "This is iteration 40000\n",
      "This is iteration 45000\n",
      "This is iteration 50000"
     ]
    }
   ],
   "source": [
    "out2 =SSBR.ssBayesC0_constantvariance(hmats,geno,fixed,ped,input);"
   ]
  },
  {
   "cell_type": "code",
   "execution_count": 12,
   "metadata": {
    "collapsed": false
   },
   "outputs": [],
   "source": [
    "using DataFrames\n",
    "df = readtable(file*\"example/bv.txt\", eltypes =[UTF8String, Float64], separator = ' ',header=false,names=[:ID,:EBV]);"
   ]
  },
  {
   "cell_type": "code",
   "execution_count": 13,
   "metadata": {
    "collapsed": false
   },
   "outputs": [],
   "source": [
    "comp=join(out,df,on=:ID);"
   ]
  },
  {
   "cell_type": "code",
   "execution_count": 14,
   "metadata": {
    "collapsed": false
   },
   "outputs": [
    {
     "name": "stdout",
     "output_type": "stream",
     "text": [
      "\n"
     ]
    },
    {
     "data": {
      "text/plain": [
       "0.7373078415347148"
      ]
     },
     "execution_count": 14,
     "metadata": {},
     "output_type": "execute_result"
    }
   ],
   "source": [
    "cor(comp[:EBV],comp[:EBV_1])"
   ]
  },
  {
   "cell_type": "code",
   "execution_count": 15,
   "metadata": {
    "collapsed": false
   },
   "outputs": [],
   "source": [
    "comp=join(out2,df,on=:ID);"
   ]
  },
  {
   "cell_type": "code",
   "execution_count": 16,
   "metadata": {
    "collapsed": false
   },
   "outputs": [
    {
     "data": {
      "text/plain": [
       "0.9307966265115342"
      ]
     },
     "execution_count": 16,
     "metadata": {},
     "output_type": "execute_result"
    }
   ],
   "source": [
    "cor(comp[:EBV],comp[:EBV_1])"
   ]
  },
  {
   "cell_type": "code",
   "execution_count": 17,
   "metadata": {
    "collapsed": false
   },
   "outputs": [
    {
     "data": {
      "text/plain": [
       "7-element Array{Symbol,1}:\n",
       " :ped    \n",
       " :pedn   \n",
       " :pedg   \n",
       " :y      \n",
       " :yn     \n",
       " :yg     \n",
       " :markers"
      ]
     },
     "execution_count": 17,
     "metadata": {},
     "output_type": "execute_result"
    }
   ],
   "source": [
    "fieldnames(hmats.num)"
   ]
  },
  {
   "cell_type": "code",
   "execution_count": 18,
   "metadata": {
    "collapsed": false
   },
   "outputs": [
    {
     "data": {
      "text/plain": [
       "SSBR.Numbers(300,200,100,300,200,100,10)"
      ]
     },
     "execution_count": 18,
     "metadata": {},
     "output_type": "execute_result"
    }
   ],
   "source": [
    "hmats.num"
   ]
  }
 ],
 "metadata": {
  "kernelspec": {
   "display_name": "Julia 0.4.0",
   "language": "julia",
   "name": "julia-0.4"
  },
  "language_info": {
   "file_extension": ".jl",
   "mimetype": "application/julia",
   "name": "julia",
   "version": "0.4.0"
  }
 },
 "nbformat": 4,
 "nbformat_minor": 0
}
