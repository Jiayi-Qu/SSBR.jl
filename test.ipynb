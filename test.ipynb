{
 "cells": [
  {
   "cell_type": "code",
   "execution_count": 1,
   "metadata": {
    "collapsed": false
   },
   "outputs": [],
   "source": [
    "reload(\"src/SSBR.jl\")"
   ]
  },
  {
   "cell_type": "code",
   "execution_count": 2,
   "metadata": {
    "collapsed": false
   },
   "outputs": [],
   "source": [
    "using SSBR"
   ]
  },
  {
   "cell_type": "code",
   "execution_count": 3,
   "metadata": {
    "collapsed": false
   },
   "outputs": [],
   "source": [
    "ped,A_Mats,numSSBayes = calc_Ai(\"example/ped.txt\",\"example/genotype.ID\")\n",
    "df    = read_genotypes(\"example/genotype.txt\",numSSBayes)\n",
    "M_Mats = make_MMats(df,A_Mats,ped)\n",
    "y_Vecs = make_yVecs(\"example/phenotype.txt\",ped,numSSBayes)\n",
    "J_Vecs = make_JVecs(numSSBayes,A_Mats)\n",
    "Z_Mats = make_ZMats(ped,y_Vecs,numSSBayes)\n",
    "X_Mats, W_Mats = make_XWMats(J_Vecs,Z_Mats,M_Mats,numSSBayes);"
   ]
  },
  {
   "cell_type": "code",
   "execution_count": 4,
   "metadata": {
    "collapsed": false
   },
   "outputs": [
    {
     "ename": "LoadError",
     "evalue": "BoundsError()\nwhile loading In[4], in expression starting on line 56",
     "output_type": "error",
     "traceback": [
      "BoundsError()\nwhile loading In[4], in expression starting on line 56",
      "",
      " in sample_effects_ycorr! at /Users/haocheng/Github/SSBR.jl/src/ssGibbs.jl:62",
      " in ssGibbs at /Users/haocheng/Github/SSBR.jl/src/ssGibbs.jl:155"
     ]
    }
   ],
   "source": [
    "nIter  = 10000\n",
    "vRes   = 1.0\n",
    "vG     = 1.0\n",
    "@time aHat,alphaHat,betaHat,epsiHat=ssGibbs(M_Mats,y_Vecs,J_Vecs,Z_Mats,X_Mats,W_Mats,A_Mats,numSSBayes,vRes,vG,nIter);"
   ]
  },
  {
   "cell_type": "code",
   "execution_count": 5,
   "metadata": {
    "collapsed": false
   },
   "outputs": [
    {
     "data": {
      "text/plain": [
       "2"
      ]
     },
     "execution_count": 5,
     "metadata": {},
     "output_type": "execute_result"
    }
   ],
   "source": [
    "xpx = [dot(X_Mats.X[:,i],X_Mats.X[:,i])::Float64 for i=1:size(X_Mats.X,2)]\n",
    "length(xpx)\n"
   ]
  },
  {
   "cell_type": "code",
   "execution_count": 17,
   "metadata": {
    "collapsed": false
   },
   "outputs": [
    {
     "data": {
      "text/plain": [
       "90x2 Array{Float64,2}:\n",
       " 1.0  -1.0\n",
       " 1.0  -1.0\n",
       " 1.0  -1.0\n",
       " 1.0  -1.0\n",
       " 1.0  -1.0\n",
       " 1.0  -1.0\n",
       " 1.0  -1.0\n",
       " 1.0  -1.0\n",
       " 1.0  -1.0\n",
       " 1.0  -1.0\n",
       " 1.0  -1.0\n",
       " 1.0  -1.0\n",
       " 1.0  -1.0\n",
       " ⋮        \n",
       " 1.0  -1.0\n",
       " 1.0  -1.0\n",
       " 1.0  -1.0\n",
       " 1.0  -1.0\n",
       " 1.0  -1.0\n",
       " 1.0  -1.0\n",
       " 1.0  -1.0\n",
       " 1.0  -1.0\n",
       " 1.0  -1.0\n",
       " 1.0  -1.0\n",
       " 1.0  -1.0\n",
       " 1.0  -1.0"
      ]
     },
     "execution_count": 17,
     "metadata": {},
     "output_type": "execute_result"
    }
   ],
   "source": [
    "X_Mats.X"
   ]
  },
  {
   "cell_type": "code",
   "execution_count": 19,
   "metadata": {
    "collapsed": false
   },
   "outputs": [
    {
     "data": {
      "text/html": [
       "7 methods for generic function <b>eye</b>:<ul><li> eye<i>{T}</i>(::<b>Type{Diagonal{T}}</b>,n::<b>Int64</b>) at <a href=\"https://github.com/JuliaLang/julia/tree/483dbf5279efe29f94cf35d42de0ab0a673fb34e/base/linalg/diagonal.jl#L95\" target=\"_blank\">linalg/diagonal.jl:95</a><li> eye(T::<b>Type{T<:Top}</b>,m::<b>Integer</b>,n::<b>Integer</b>) at <a href=\"https://github.com/JuliaLang/julia/tree/483dbf5279efe29f94cf35d42de0ab0a673fb34e/base/array.jl#L176\" target=\"_blank\">array.jl:176</a><li> eye(m::<b>Integer</b>,n::<b>Integer</b>) at <a href=\"https://github.com/JuliaLang/julia/tree/483dbf5279efe29f94cf35d42de0ab0a673fb34e/base/array.jl#L182\" target=\"_blank\">array.jl:182</a><li> eye(T::<b>Type{T<:Top}</b>,n::<b>Integer</b>) at <a href=\"https://github.com/JuliaLang/julia/tree/483dbf5279efe29f94cf35d42de0ab0a673fb34e/base/array.jl#L183\" target=\"_blank\">array.jl:183</a><li> eye(n::<b>Integer</b>) at <a href=\"https://github.com/JuliaLang/julia/tree/483dbf5279efe29f94cf35d42de0ab0a673fb34e/base/array.jl#L184\" target=\"_blank\">array.jl:184</a><li> eye(S::<b>SparseMatrixCSC{Tv,Ti<:Integer}</b>) at <a href=\"https://github.com/JuliaLang/julia/tree/483dbf5279efe29f94cf35d42de0ab0a673fb34e/base/sparse/sparsematrix.jl#L426\" target=\"_blank\">sparse/sparsematrix.jl:426</a><li> eye<i>{T}</i>(x::<b>AbstractArray{T,2}</b>) at <a href=\"https://github.com/JuliaLang/julia/tree/483dbf5279efe29f94cf35d42de0ab0a673fb34e/base/array.jl#L185\" target=\"_blank\">array.jl:185</a></ul>"
      ],
      "text/plain": [
       "# 7 methods for generic function \"eye\":\n",
       "eye{T}(::Type{Diagonal{T}},n::Int64) at linalg/diagonal.jl:95\n",
       "eye(T::Type{T<:Top},m::Integer,n::Integer) at array.jl:176\n",
       "eye(m::Integer,n::Integer) at array.jl:182\n",
       "eye(T::Type{T<:Top},n::Integer) at array.jl:183\n",
       "eye(n::Integer) at array.jl:184\n",
       "eye(S::SparseMatrixCSC{Tv,Ti<:Integer}) at sparse/sparsematrix.jl:426\n",
       "eye{T}(x::AbstractArray{T,2}) at array.jl:185"
      ]
     },
     "execution_count": 19,
     "metadata": {},
     "output_type": "execute_result"
    }
   ],
   "source": [
    "    xpx = [dot(X[:,i],X[:,i]) for i=1:size(X,2)]\n",
    "    wpw = [dot(W[:,i],W[:,i]) for i=1:all_num.num_markers]\n",
    "    #zpz = [(Z11[:,i]'Z11[:,i])[1,1] for i=1:all_num.num_g1]\n",
    "    zpz = diag(Z11'Z11)\n",
    "    \n",
    "    #construct lhs for sampleEpsilon!\n",
    "    λ_epsilon       = vRes/vG\n",
    "    Z_1             = all_Z.Z_1\n",
    "    lhs_epsilon     = Z_1'Z_1+Ai11*λ_epsilon\n",
    "    lhsCol_epsilon  = [lhs_epsilon[:,i] for i=1:size(lhs_epsilon,1)]\n",
    "    lhsDi_epsilon   = 1.0./diag(lhs_epsilon)\n",
    "    sd_epsilon      = sqrt(lhsDi_epsilon*vRes)\n",
    "  \n",
    "    λ        = vRes/vAlpha\n",
    "    lhsDi    = [1.0/(xpx[i]+λ) for i=1:size(xpx,1)]\n",
    "    sd       = sqrt(lhsDi*vRes)"
   ]
  }
 ],
 "metadata": {
  "kernelspec": {
   "display_name": "Julia 0.3.11",
   "language": "julia",
   "name": "julia-0.3"
  },
  "language_info": {
   "file_extension": ".jl",
   "mimetype": "application/julia",
   "name": "julia",
   "version": "0.3.11"
  }
 },
 "nbformat": 4,
 "nbformat_minor": 0
}
