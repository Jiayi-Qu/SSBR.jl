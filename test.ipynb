{
 "cells": [
  {
   "cell_type": "code",
   "execution_count": 1,
   "metadata": {
    "collapsed": false
   },
   "outputs": [],
   "source": [
    "reload(\"src/SSBR.jl\")"
   ]
  },
  {
   "cell_type": "code",
   "execution_count": 2,
   "metadata": {
    "collapsed": false
   },
   "outputs": [],
   "source": [
    "using SSBR"
   ]
  },
  {
   "cell_type": "code",
   "execution_count": 3,
   "metadata": {
    "collapsed": false
   },
   "outputs": [],
   "source": [
    "ped,A_Mats,numSSBayes = calc_Ai(\"example/ped.txt\",\"example/genotype.ID\")\n",
    "df    = read_genotypes(\"example/genotype.txt\",numSSBayes)\n",
    "M_Mats = make_MMats(df,A_Mats,ped)\n",
    "y_Vecs = make_yVecs(\"example/phenotype.txt\",ped,numSSBayes)\n",
    "J_Vecs = make_JVecs(numSSBayes,A_Mats)\n",
    "Z_Mats = make_ZMats(ped,y_Vecs,numSSBayes)\n",
    "X_Mats, W_Mats = make_XWMats(J_Vecs,Z_Mats,M_Mats,numSSBayes);"
   ]
  },
  {
   "cell_type": "code",
   "execution_count": 12,
   "metadata": {
    "collapsed": false
   },
   "outputs": [
    {
     "name": "stdout",
     "output_type": "stream",
     "text": [
      "This is iteration 5000\n",
      "This is iteration 10000\n",
      "elapsed time: 1.531738226 seconds (519877488 bytes allocated, 32.32% gc time)\n"
     ]
    }
   ],
   "source": [
    "nIter  = 10000\n",
    "vRes   = 1.0\n",
    "vG     = 1.0\n",
    "@time aHat,alphaHat,betaHat,epsiHat=ssGibbs(M_Mats,y_Vecs,J_Vecs,Z_Mats,X_Mats,W_Mats,A_Mats,numSSBayes,vRes,vG,nIter);"
   ]
  }
 ],
 "metadata": {
  "kernelspec": {
   "display_name": "Julia 0.3.11",
   "language": "julia",
   "name": "julia-0.3"
  },
  "language_info": {
   "file_extension": ".jl",
   "mimetype": "application/julia",
   "name": "julia",
   "version": "0.3.11"
  }
 },
 "nbformat": 4,
 "nbformat_minor": 0
}
