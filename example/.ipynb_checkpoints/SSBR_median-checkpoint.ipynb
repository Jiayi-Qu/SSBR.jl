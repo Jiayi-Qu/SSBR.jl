{
 "metadata": {
  "language": "Julia",
  "name": "",
  "signature": "sha256:d01a36b2f5aa3a5450692ef1d8aa1048b6fbe259345e3fc84935bf5e463b3af2"
 },
 "nbformat": 3,
 "nbformat_minor": 0,
 "worksheets": [
  {
   "cells": [
    {
     "cell_type": "markdown",
     "metadata": {},
     "source": [
      "##<font color='red'>Analysis</font>"
     ]
    },
    {
     "cell_type": "code",
     "collapsed": false,
     "input": [
      "include(\"../../modules/pedigree.jl\")\n",
      "using PedModule"
     ],
     "language": "python",
     "metadata": {},
     "outputs": [
      {
       "output_type": "stream",
       "stream": "stderr",
       "text": [
        "Warning: replacing module PedModule\n"
       ]
      }
     ],
     "prompt_number": 55
    },
    {
     "cell_type": "heading",
     "level": 3,
     "metadata": {},
     "source": [
      "Input pedigree and compute inbreeding coefficients"
     ]
    },
    {
     "cell_type": "code",
     "collapsed": false,
     "input": [
      "ped = PedModule.mkPed(\"medPed.txt\");"
     ],
     "language": "python",
     "metadata": {},
     "outputs": [],
     "prompt_number": 56
    },
    {
     "cell_type": "code",
     "collapsed": false,
     "input": [
      "ped.idMap;"
     ],
     "language": "python",
     "metadata": {},
     "outputs": [],
     "prompt_number": 57
    },
    {
     "cell_type": "heading",
     "level": 3,
     "metadata": {},
     "source": [
      "Renumber pedigree such that ungenotyped individuals have lower numbers that genotyped "
     ]
    },
    {
     "cell_type": "code",
     "collapsed": false,
     "input": [
      "n1 = PedModule.genoSet!(\"medSel.ID.txt\",ped)"
     ],
     "language": "python",
     "metadata": {},
     "outputs": [
      {
       "metadata": {},
       "output_type": "pyout",
       "prompt_number": 59,
       "text": [
        "200"
       ]
      }
     ],
     "prompt_number": 59
    },
    {
     "cell_type": "code",
     "collapsed": false,
     "input": [
      "ped.idMap"
     ],
     "language": "python",
     "metadata": {},
     "outputs": [
      {
       "metadata": {},
       "output_type": "pyout",
       "prompt_number": 60,
       "text": [
        "Dict{Any,Any} with 300 entries:\n",
        "  \"1\"   => PedNode(1,\"0\",\"0\",0.0)\n",
        "  \"54\"  => PedNode(2,\"0\",\"0\",0.0)\n",
        "  \"101\" => PedNode(3,\"42\",\"76\",0.0)\n",
        "  \"41\"  => PedNode(4,\"0\",\"0\",0.0)\n",
        "  \"65\"  => PedNode(5,\"0\",\"0\",0.0)\n",
        "  \"299\" => PedNode(205,\"141\",\"171\",0.125)\n",
        "  \"168\" => PedNode(6,\"16\",\"72\",0.0)\n",
        "  \"159\" => PedNode(7,\"3\",\"64\",0.0)\n",
        "  \"228\" => PedNode(206,\"127\",\"155\",0.0)\n",
        "  \"190\" => PedNode(8,\"21\",\"60\",0.0)\n",
        "  \"227\" => PedNode(208,\"105\",\"167\",0.0)\n",
        "  \"270\" => PedNode(207,\"112\",\"194\",0.0)\n",
        "  \"223\" => PedNode(210,\"125\",\"188\",0.0)\n",
        "  \"88\"  => PedNode(9,\"0\",\"0\",0.0)\n",
        "  \"297\" => PedNode(218,\"105\",\"192\",0.0)\n",
        "  \"26\"  => PedNode(10,\"0\",\"0\",0.0)\n",
        "  \"289\" => PedNode(216,\"141\",\"182\",0.0)\n",
        "  \"250\" => PedNode(217,\"112\",\"176\",0.0)\n",
        "  \"77\"  => PedNode(11,\"0\",\"0\",0.0)\n",
        "  \"230\" => PedNode(220,\"112\",\"191\",0.0)\n",
        "  \"24\"  => PedNode(12,\"0\",\"0\",0.0)\n",
        "  \"258\" => PedNode(224,\"127\",\"184\",0.0)\n",
        "  \"204\" => PedNode(226,\"101\",\"172\",0.0)\n",
        "  \"23\"  => PedNode(13,\"0\",\"0\",0.0)\n",
        "  \"160\" => PedNode(14,\"21\",\"93\",0.0)\n",
        "  \u22ee     => \u22ee"
       ]
      }
     ],
     "prompt_number": 60
    },
    {
     "cell_type": "heading",
     "level": 3,
     "metadata": {},
     "source": [
      "Compute A inverse"
     ]
    },
    {
     "cell_type": "code",
     "collapsed": false,
     "input": [
      "Ai = PedModule.AInverse(ped);\n",
      "AiFull = full(Ai);"
     ],
     "language": "python",
     "metadata": {},
     "outputs": [],
     "prompt_number": 61
    },
    {
     "cell_type": "code",
     "collapsed": false,
     "input": [
      "AiFull;"
     ],
     "language": "python",
     "metadata": {},
     "outputs": [],
     "prompt_number": 62
    },
    {
     "cell_type": "code",
     "collapsed": false,
     "input": [
      "n=size(Ai,2)"
     ],
     "language": "python",
     "metadata": {},
     "outputs": [
      {
       "metadata": {},
       "output_type": "pyout",
       "prompt_number": 63,
       "text": [
        "300"
       ]
      }
     ],
     "prompt_number": 63
    },
    {
     "cell_type": "code",
     "collapsed": false,
     "input": [
      "Ai11 = Ai[1:n1,1:n1]\n",
      "Ai12 = Ai[1:n1,(n1+1):n];"
     ],
     "language": "python",
     "metadata": {},
     "outputs": [],
     "prompt_number": 64
    },
    {
     "cell_type": "heading",
     "level": 3,
     "metadata": {},
     "source": [
      "Input genotypes and make M1 and M2"
     ]
    },
    {
     "cell_type": "code",
     "collapsed": false,
     "input": [
      "etv = [UTF8String]\n",
      "for i=1:10 \n",
      "    push!(etv,Int64)\n",
      "end\n",
      "using DataFrames\n",
      "df = readtable(\"medSelGen.txt\", eltypes=etv, separator = ' ',header=false)\n",
      "n2, nCols = size(df)\n",
      "nMarkers  = nCols - 1\n",
      "M2 = Array(Int64,n2,nMarkers)\n",
      "for i in 1:n2\n",
      "    id = df[i,1]\n",
      "    row = ped.idMap[id].seqID - n1\n",
      "    M2[row,:] = array(df[i,2:nCols])\n",
      "end\n",
      "M1 = -Ai11\\(Ai12*M2)\n",
      "M  = [M1;M2];"
     ],
     "language": "python",
     "metadata": {},
     "outputs": [],
     "prompt_number": 65
    },
    {
     "cell_type": "heading",
     "level": 3,
     "metadata": {},
     "source": [
      "Input phenotypes and reorder according to renumbered pedigree"
     ]
    },
    {
     "cell_type": "code",
     "collapsed": false,
     "input": [
      "df = readtable(\"medPhen.txt\", eltypes=[UTF8String, Float64], separator = ' ',header=false)\n",
      "yorig  = df[:,2]\n",
      "n = n1 + n2\n",
      "y   = fill(-9999.0,n)\n",
      "ids = fill(\".\",n) \n",
      "idss = ids\n",
      "nObs = size(df,1)\n",
      "for i=1:nObs\n",
      "    j = ped.idMap[df[i,1]].seqID\n",
      "    y[j]   = df[i,2]\n",
      "    ids[j] = df[i,1]\n",
      "end\n",
      "y\n",
      "y1 = y[1:n1]\n",
      "y2 = y[(n1+1):(n1+n2)]\n",
      "y1 = y1[y1.!=-9999]\n",
      "y2 = y2[y2.!=-9999]\n",
      "ids = ids[ids.!=\".\"]\n",
      "y = [y1;y2];"
     ],
     "language": "python",
     "metadata": {},
     "outputs": [],
     "prompt_number": 66
    },
    {
     "cell_type": "heading",
     "level": 2,
     "metadata": {},
     "source": [
      "Make Z1 and Z2 "
     ]
    },
    {
     "cell_type": "code",
     "collapsed": false,
     "input": [
      "Z  = zeros(Float64,1,n)\n",
      "Z1 = []\n",
      "Z2 = []\n",
      "for i in ids\n",
      "    j = ped.idMap[i].seqID\n",
      "    Z[1,j] = 1\n",
      "    if in(i,ped.setNG)\n",
      "        Z1 = size(Z1,1)==0 ? Z[1,:] : [Z1;Z[1,:]]\n",
      "        Z[1,j] = 0\n",
      "    else\n",
      "        Z2 = size(Z2,1)==0 ? Z[1,:] :  [Z2;Z[1,:]]\n",
      "        Z[1,j] = 0\n",
      "    end\n",
      "    Z[1,j] = 0\n",
      "end        "
     ],
     "language": "python",
     "metadata": {},
     "outputs": [],
     "prompt_number": 67
    },
    {
     "cell_type": "heading",
     "level": 2,
     "metadata": {},
     "source": [
      "Make J1 and J2"
     ]
    },
    {
     "cell_type": "code",
     "collapsed": false,
     "input": [
      "n1 = size(M1,1)\n",
      "n2 = size(M2,1)\n",
      "J2 = -ones(n2,1)\n",
      "J1 = -Ai11\\(Ai12*J2)\n",
      "[J1;J2];"
     ],
     "language": "python",
     "metadata": {},
     "outputs": [],
     "prompt_number": 68
    },
    {
     "cell_type": "heading",
     "level": 3,
     "metadata": {},
     "source": [
      "Make X1 and X2"
     ]
    },
    {
     "cell_type": "markdown",
     "metadata": {},
     "source": [
      "Note: In the paper, what I call $\\mathbf{X}^*_i$ is called $\\mathbf{X}_i$  here"
     ]
    },
    {
     "cell_type": "code",
     "collapsed": false,
     "input": [
      "J = [J1;\n",
      "     J2]\n",
      "X  = [hcat(ones(n1), J1);\n",
      "      hcat(ones(n2), J2)]\n",
      "X1 = Z1*X\n",
      "X2 = Z2*X\n",
      "X = [X1;X2];"
     ],
     "language": "python",
     "metadata": {},
     "outputs": [],
     "prompt_number": 69
    },
    {
     "cell_type": "heading",
     "level": 3,
     "metadata": {},
     "source": [
      "Make W, W1 and W2"
     ]
    },
    {
     "cell_type": "code",
     "collapsed": false,
     "input": [
      "W1 = Z1*M\n",
      "W2 = Z2*M\n",
      "W  = [W1;W2];"
     ],
     "language": "python",
     "metadata": {},
     "outputs": [],
     "prompt_number": 70
    },
    {
     "cell_type": "heading",
     "level": 3,
     "metadata": {},
     "source": [
      "MME for SSBR:"
     ]
    },
    {
     "cell_type": "code",
     "collapsed": false,
     "input": [
      "vRes   = 1.0\n",
      "vG     = 1.0\n",
      "vAlpha = vG/nMarkers\n",
      "\u03bb1 = vRes/vG     # value used in paper\n",
      "\u03bb2 = vRes/(vG/nMarkers) \n",
      "n3 = nMarkers\n",
      "Z11 = Z1[:,1:n1]\n",
      "lhs = [hcat(X'X,  X'W,           X1'Z11);\n",
      "       hcat(W'X,  W'W+eye(n3)\u03bb2, W1'Z11);\n",
      "    hcat(Z11'X1,Z11'W1,           Z11'Z11+Ai11*\u03bb1 )]\n",
      "rhs = [X'y; W'y; Z11'y1];"
     ],
     "language": "python",
     "metadata": {},
     "outputs": [],
     "prompt_number": 71
    },
    {
     "cell_type": "code",
     "collapsed": false,
     "input": [
      "sol=lhs\\rhs;"
     ],
     "language": "python",
     "metadata": {},
     "outputs": [],
     "prompt_number": 72
    },
    {
     "cell_type": "heading",
     "level": 2,
     "metadata": {},
     "source": [
      "Gibbs Sampling"
     ]
    },
    {
     "cell_type": "heading",
     "level": 3,
     "metadata": {},
     "source": [
      "Function to get column j from X"
     ]
    },
    {
     "cell_type": "code",
     "collapsed": false,
     "input": [
      "function get_column(X,nRows,j)\n",
      "    indx = 1 + (j-1)*nRows\n",
      "    ptr = pointer(X,indx)\n",
      "    pointer_to_array(ptr,nRows)\n",
      "end"
     ],
     "language": "python",
     "metadata": {},
     "outputs": [
      {
       "metadata": {},
       "output_type": "pyout",
       "prompt_number": 73,
       "text": [
        "get_column (generic function with 1 method)"
       ]
      }
     ],
     "prompt_number": 73
    },
    {
     "cell_type": "heading",
     "level": 3,
     "metadata": {},
     "source": [
      "Function for single-site Gibbs "
     ]
    },
    {
     "cell_type": "code",
     "collapsed": false,
     "input": [
      "function sampleEffects!(X,xpx,yCorr,\u03b1,meanAlpha,vRes,vEff,iIter)\n",
      "    nObs,nEffects = size(X)\n",
      "    \u03bb    = vRes/vEff\n",
      "    for j=1:nEffects\n",
      "        x = get_column(X,nObs,j)\n",
      "        rhs = dot(x,yCorr) + xpx[j]*\u03b1[j,1]\n",
      "        lhs      = xpx[j] + \u03bb\n",
      "        invLhs   = 1.0/lhs\n",
      "        mean     = invLhs*rhs\n",
      "        oldAlpha = \u03b1[j,1] \n",
      "        \u03b1[j]     = mean + randn(1)[1]*sqrt(invLhs*vRes)\n",
      "        BLAS.axpy!(oldAlpha-\u03b1[j,1],x,yCorr)\n",
      "        meanAlpha[j] += (\u03b1[j] - meanAlpha[j])*iIter \n",
      "    end\n",
      "end"
     ],
     "language": "python",
     "metadata": {},
     "outputs": [
      {
       "metadata": {},
       "output_type": "pyout",
       "prompt_number": 74,
       "text": [
        "sampleEffects! (generic function with 1 method)"
       ]
      }
     ],
     "prompt_number": 74
    },
    {
     "cell_type": "code",
     "collapsed": false,
     "input": [
      "function sampleEpsi!(Ai11,zpz,vRes,vG,yCorr,\u03f5,meanEpsi,n,iIter)\n",
      "    n1=200\n",
      "    \u03bb = vRes/vG\n",
      "    for i = 1:n1 \n",
      "        yCorr[i] = yCorr[i] + \u03f5[i]\n",
      "    end\n",
      "    n1 = size(zpz,1)\n",
      "    for (i in 1:n1)\n",
      "        \u03f5[i] = 0.0\n",
      "        rhs = yCorr[i] - Ai11[i,:]\u03f5*\u03bb \n",
      "        lhs = (zpz[i] + Ai11[i,i]*\u03bb)\n",
      "        invLhs = 1.0/lhs\n",
      "        mean = invLhs*rhs[1]\n",
      "        \u03f5[i] = mean + randn(1)[1]*sqrt(invLhs*vRes)\n",
      "        meanEpsi[i] += (\u03f5[i] - meanEpsi[i])*iIter\n",
      "    end\n",
      "    for i = 1:n1 \n",
      "        yCorr[i] = yCorr[i] - \u03f5[i]\n",
      "    end\n",
      "end"
     ],
     "language": "python",
     "metadata": {},
     "outputs": [
      {
       "metadata": {},
       "output_type": "pyout",
       "prompt_number": 75,
       "text": [
        "sampleEpsi! (generic function with 1 method)"
       ]
      }
     ],
     "prompt_number": 75
    },
    {
     "cell_type": "code",
     "collapsed": false,
     "input": [
      "#meanXCols = mean(W,1)\n",
      "#W = W - ones(nObs,1)*meanXCols"
     ],
     "language": "python",
     "metadata": {},
     "outputs": [],
     "prompt_number": 21
    },
    {
     "cell_type": "heading",
     "level": 3,
     "metadata": {},
     "source": [
      "Initialize sampler"
     ]
    },
    {
     "cell_type": "code",
     "collapsed": false,
     "input": [
      "nIter  = 10000\n",
      "vRes   = 1.0\n",
      "vG     = 1.0\n",
      "vAlpha = vG/nMarkers\n",
      "mu        = mean(y)\n",
      "yCorr     = y - mu\n",
      "\u03b2         = [mu, 0.0]\n",
      "meanBeta  = [0.0, 0.0]\n",
      "x           = Array(Float64,nObs)\n",
      "\u03b1           = zeros(Float64,nMarkers)\n",
      "\u03f5           = zeros(Float64,n1)\n",
      "meanEpsi    = zeros(Float64,n1)\n",
      "meanAlpha   = zeros(Float64,nMarkers)\n",
      "epsilon     = zeros(Float64,size(Z11,2))\n",
      "xpx         = [dot(X[:,i],X[:,i]) for i=1:size(X,2)]\n",
      "xwx         = [dot(W[:,i],W[:,i]) for i=1:nMarkers]\n",
      "zpz         = [dot(Z11[:,i],Z11[:,i]) for i=1:n1] ##worng number here before\n",
      "n4          = size(Z11,1);"
     ],
     "language": "python",
     "metadata": {},
     "outputs": [],
     "prompt_number": 76
    },
    {
     "cell_type": "heading",
     "level": 3,
     "metadata": {},
     "source": [
      "Sampling"
     ]
    },
    {
     "cell_type": "code",
     "collapsed": false,
     "input": [
      "for iter = 1:nIter\n",
      "    iIter = 1.0/iter\n",
      "    # sample fixed effects\n",
      "    sampleEffects!(X,xpx,yCorr,\u03b2,meanBeta,0.0,vAlpha,iIter)\n",
      "    # sample marker effects\n",
      "    sampleEffects!(W,xwx,yCorr,\u03b1,meanAlpha,vRes,vAlpha,iIter)\n",
      "    # sample epsilon\n",
      "    sampleEpsi!(Ai11,zpz,vRes,vG,yCorr,\u03f5,meanEpsi,n4,iIter)\n",
      "end "
     ],
     "language": "python",
     "metadata": {},
     "outputs": [],
     "prompt_number": 77
    },
    {
     "cell_type": "code",
     "collapsed": false,
     "input": [
      "meanBeta"
     ],
     "language": "python",
     "metadata": {},
     "outputs": [
      {
       "metadata": {},
       "output_type": "pyout",
       "prompt_number": 78,
       "text": [
        "2-element Array{Float64,1}:\n",
        " -0.541543\n",
        " -0.407612"
       ]
      }
     ],
     "prompt_number": 78
    },
    {
     "cell_type": "code",
     "collapsed": false,
     "input": [
      "meanAlpha"
     ],
     "language": "python",
     "metadata": {},
     "outputs": [
      {
       "metadata": {},
       "output_type": "pyout",
       "prompt_number": 79,
       "text": [
        "10-element Array{Float64,1}:\n",
        " -0.692902\n",
        "  1.2184  \n",
        "  0.154722\n",
        "  0.602945\n",
        "  0.925279\n",
        "  0.576388\n",
        " -2.08744 \n",
        " -1.70862 \n",
        "  1.36687 \n",
        " -0.989158"
       ]
      }
     ],
     "prompt_number": 79
    },
    {
     "cell_type": "code",
     "collapsed": false,
     "input": [
      "meanEpsi"
     ],
     "language": "python",
     "metadata": {},
     "outputs": [
      {
       "metadata": {},
       "output_type": "pyout",
       "prompt_number": 80,
       "text": [
        "200-element Array{Float64,1}:\n",
        " -3.18338  \n",
        " -1.0906   \n",
        "  0.367999 \n",
        "  0.965564 \n",
        " -0.173761 \n",
        "  1.13429  \n",
        " -0.52991  \n",
        " -2.22766  \n",
        " -0.625725 \n",
        "  0.740035 \n",
        "  0.464997 \n",
        " -0.391569 \n",
        "  2.47625  \n",
        "  \u22ee        \n",
        " -0.804687 \n",
        " -0.672842 \n",
        "  0.38731  \n",
        "  0.157401 \n",
        " -2.26431  \n",
        "  2.0472   \n",
        "  0.0685586\n",
        " -2.58027  \n",
        " -1.77707  \n",
        " -0.381632 \n",
        " -0.437959 \n",
        " -0.111231 "
       ]
      }
     ],
     "prompt_number": 80
    },
    {
     "cell_type": "code",
     "collapsed": false,
     "input": [
      "sol"
     ],
     "language": "python",
     "metadata": {},
     "outputs": [
      {
       "metadata": {},
       "output_type": "pyout",
       "prompt_number": 81,
       "text": [
        "212-element Array{Float64,1}:\n",
        " -0.542789 \n",
        " -0.41686  \n",
        " -0.686408 \n",
        "  1.21688  \n",
        "  0.151671 \n",
        "  0.604689 \n",
        "  0.915985 \n",
        "  0.573737 \n",
        " -2.08781  \n",
        " -1.70357  \n",
        "  1.36999  \n",
        " -0.993707 \n",
        " -3.1797   \n",
        "  \u22ee        \n",
        " -0.809342 \n",
        " -0.691208 \n",
        "  0.389101 \n",
        "  0.176033 \n",
        " -2.26794  \n",
        "  2.04853  \n",
        "  0.0663961\n",
        " -2.55718  \n",
        " -1.78779  \n",
        " -0.387595 \n",
        " -0.431657 \n",
        " -0.107395 "
       ]
      }
     ],
     "prompt_number": 81
    },
    {
     "cell_type": "code",
     "collapsed": false,
     "input": [
      "#X1          = hcat(ones(n),J)\n",
      "#aHat        = X1*meanBeta + M*meanAlpha \n",
      "aHat  = J*meanBeta[2]+M*meanAlpha\n",
      "aHat[1:n1,:] += meanEpsi;\n",
      "#cor(a,aHat)"
     ],
     "language": "python",
     "metadata": {},
     "outputs": [
      {
       "metadata": {},
       "output_type": "pyout",
       "prompt_number": 115,
       "text": [
        "200x1 Array{Float64,2}:\n",
        " -3.18338 \n",
        " -0.628286\n",
        " -2.69239 \n",
        " -1.51644 \n",
        "  0.270876\n",
        "  2.65851 \n",
        " -1.714   \n",
        " -5.12018 \n",
        " -0.504419\n",
        "  0.740035\n",
        "  0.558727\n",
        " -0.391569\n",
        "  2.47625 \n",
        "  \u22ee       \n",
        " -2.98507 \n",
        " -0.672842\n",
        "  0.38731 \n",
        " -0.750206\n",
        " -2.26431 \n",
        "  3.36588 \n",
        " -1.95625 \n",
        " -4.53096 \n",
        " -0.266277\n",
        " -0.381632\n",
        " -1.10458 \n",
        "  1.4793  "
       ]
      }
     ],
     "prompt_number": 115
    },
    {
     "cell_type": "code",
     "collapsed": false,
     "input": [
      "aHat  = M*meanAlpha\n",
      "aHat[1:n1,:] += meanEpsi;\n",
      "aHat;"
     ],
     "language": "python",
     "metadata": {},
     "outputs": [],
     "prompt_number": 135
    },
    {
     "cell_type": "code",
     "collapsed": false,
     "input": [
      "aHat_reorder = zeros(n)\n",
      "df = readtable(\"nongeno.geno.ID.BOLT\", header=false)\n",
      "for (i,ID) in enumerate(df[:,1])\n",
      "    j = ped.idMap[string(ID)].seqID\n",
      "    aHat_reorder[i] = aHat[j]\n",
      "end;"
     ],
     "language": "python",
     "metadata": {},
     "outputs": [],
     "prompt_number": 136
    },
    {
     "cell_type": "code",
     "collapsed": false,
     "input": [
      "println(aHat_reorder)"
     ],
     "language": "python",
     "metadata": {},
     "outputs": [
      {
       "output_type": "stream",
       "stream": "stdout",
       "text": [
        "[-"
       ]
      },
      {
       "output_type": "stream",
       "stream": "stdout",
       "text": [
        "3.183378040271309,1.8227992053202524,0.0055633034778989066,-3.203486660938627,-1.4517434352343037,1.0226183667379518,-3.1488094041172783,-3.4888919893450376,-4.109293490975393,0.2674964562628942,1.2522253249172481,-0.5647285398477508,0.38730971722240637,-4.309133201692141,-0.060000681023659075,-5.094545725586846,1.4893045516745047,-1.8507407009742087,-4.049195096683135,-1.318402152969624,0.08014182284125382,-0.7571008805130498,-0.16431240850511372,0.7021825230451452,-2.5852619844452724,-4.40225498622622,3.594107573916507,1.0455157848096965,-3.192905019372989,-3.444482702832516,-2.9546137364016354,0.875240783542411,-2.450190636071808,-0.6382001739653065,0.059236648663565504,-3.0733628031035187,0.28390110902144117,-0.7039404703800148,1.0778010721226479,-2.318856563415097,-1.563746603768073,-0.9392220526075533,0.20994731046863524,-1.3006405015492244,-2.651451414857057,1.1447848397683809,-2.957692818132239,0.295906863135172,0.6742681651765762,2.031153325409343,-3.465998580926431,-4.784954994037131,-0.9613155461138101,1.0308284325478978,-2.990905302873989,-0.8815181932990465,-2.503280511245593,-1.6894422391933537,1.8992014011798657,-2.5905103751700946,1.275780884841536,-4.177080367126972,-3.187173255443494,0.17703257235896652,1.2788035018723862,-0.7065890977337157,-1.9152154860533956,-1.117065814571113,-1.4013053370757236,0.9341365442391765,-0.5779112286975145,1.4856153134629544,-2.7218632080061123,-2.838955166819792,-0.5648101945033603,0.7872362595644468,2.420195173498338,0.8506659330751661,1.796609211495279,-2.501665221156875,-1.5900392758676798,-1.7669580753955882,1.6252907230393983,-0.4657032384770301,-1.6930032686050378,-2.420436846051977,0.0748263765470416,-1.6067057609578117,-1.9062842840637533,-3.5421932119331845,-0.24503944133622102,-2.0602099623839276,0.11009707169186433,-0.5207247192230618,-3.417436632825806,-3.1680856957677825,-3.279293916769254,-3.0587824348036747,1.8668793788210105,-0.3501172569694474,-0.19451837710078101,-5.333818666994283,-0.1198338944117508,-3.0425275487161323,-0.7993331146875304,-5.331289136322346,-3.2555681712924263,-0.49956697084363644,2.634469949491719,-2.5375052778777607,-1.0831921353953138,-1.763874830012821,0.524358957387739,-0.6671660786833833,-3.3312803262438035,-0.672841801349063,2.4762525807923557,-0.39156930385691785,-1.9068918994326138,0.7400345869402094,1.0043755018283371,0.7782788610176663,-0.10883806861291397,-0.8389675533336574,-1.1912206610689584,1.9389381740921552,0.02623461102614482,-2.6723542136975285,-0.09470458275340535,-0.8941998902882032,-0.3816320789488688,-5.61227267331063,0.9954106496251642,-1.3941556142932088,0.6740698074239008,-2.2643141426999365,-1.9706843400822311,-1.2826051509371548,1.2458406984217902,-1.3551611596219653,-1.195595855431147,1.1420613139552043,-0.0668435432951636,2.954125254870832,-0.4269902638763769,1.2065646685241684,-0.38549231070814827,3.2957574508761267,-1.6868206018565186,-0.08329069051169502,-0.6690272801977262,-0.05163019361653021,-2.8138392858031183,-1.5132650396496852,1.2083352558511586,0.6825851411036454,-0.31129709798483957,-5.181861324840117,0.5006256893768402,-3.7586261299891834,1.8430496997068988,-2.434913791014418,0.22836816329925777,0.9621088120721957,-0.44216667730270753,0.4448861680747529,1.1986789908244355,0.9035216191064399,-0.21326569415336283,-3.306600480747132,3.3292929925894024,-3.384460151780742,-3.3567115600036805,-3.2301045904167984,-0.43338787217275054,0.5192714190713459,0.5327747153056617,-0.7459764512138389,-0.33733913492858486,0.4820895478150019,0.5097071514251634,2.8769679120202123,-0.5072811020976179,-0.4353428719321352,-1.3789135623566862,-0.012061730044156338,0.7687223609051062,-0.5293837131653968,5.328783382132807,2.321934753863034,0.1462689120665541,1.039920686135635,-0.1878847597492309,-0.1554290276739176,-0.07608587426718583,-0.30318844123381505,-1.6947459442581796,-0.7378699405207653,-1.4073226297227612,0.3223384316032165,0.8233109476429304,-4.504098973189687,-4.416016647857297,-3.203131428277437,-2.6672152921838608,-4.4320461682887515,-3.162548939340806,1.4836135256724543,-1.8994132841838727,-2.021424365489211,-0.6717239927835109,3.8820061357338957,0.41881457797051824,-2.850471082391673,-1.5367307994415549,-0.29265003932805667,-2.218230756287044,-2.0323187759769925,-0.4625107962744375,-2.3901004080338564,-4.246155890910916,-0.32369662185641024,0.28461772638621885,-4.414903446544635,-2.496860169984077,-2.8336844808786754,-1.9932469971201106,-1.8253635585337018,-2.2189866871469994,-3.413859856602908,-6.264597754149028,-3.502917427193716,-2.894197539139433,-0.35025340881469613,0.7554184553794703,0.09444911045592619,-4.1651075923331105,-2.5120096490526964,-3.5757266964581547,-5.736171952736922,-0.004493212330848317,0.2917628813519114,-4.330236078767376,-2.102575071637681,-4.631156448424983,-1.6429718853731998,-2.3604215249624776,2.823926781209342,1.523328649566814,-3.747216189399267,1.9548890175298446,2.5182673847292865,-1.6110290758535282,-0.9266411331661363,-6.462795266260377,-3.5208273757182105,-5.325649576793989,-2.0494884457664657,0.22073909759788746,-2.789984972176273,-2.5696289428548607,-0.4279091888195702,-1.4485373458980575,-2.707394493736714,-1.0485503741849755,-1.4239986491176735,-3.012975488667709,0.779957152159854,1.0867509193812372,-6.475788437783894,-0.5087497302322924,0.5360399406252478,-1.0817391573941113,-3.246460376258109,-6.524428423537671,-4.355276208263403,0.9203783596403983,0.7630417899700834,-1.427604703472377,-2.5658600849435085,-3.821734899296887,2.0778272796955957,-2.544171680423693,-4.087828151666658,-1.1079253836306664,-0.13704253445897707,-2.0635090713974895,1.8293795007729916,-0.6672182728979188,-5.223668635790504,-6.0322202892545995,-2.300143171912159,-1.8293808387696109,-2.977899118348702,-4.509117851790122,-0.7545222283881522,-2.298184647013627,1.1253479353739801,-0.3690436600149839,-4.568385242332623]\n"
       ]
      }
     ],
     "prompt_number": 137
    },
    {
     "cell_type": "code",
     "collapsed": false,
     "input": [
      "aHatBolt=[\n",
      "-3.17715\n",
      "1.83922\n",
      "0.0369458\n",
      "-2.55671\n",
      "-1.17952\n",
      "1.19443\n",
      "-2.92368\n",
      "-2.89425\n",
      "-3.93744\n",
      "0.431231\n",
      "1.46329\n",
      "-0.423485\n",
      "0.392936\n",
      "-4.14058\n",
      "0.252093\n",
      "-4.56623\n",
      "1.67028\n",
      "-1.63372\n",
      "-3.75574\n",
      "-1.13439\n",
      "0.278243\n",
      "-0.569035\n",
      "-0.0303224\n",
      "0.700693\n",
      "-2.41122\n",
      "-3.87726\n",
      "3.87521\n",
      "1.20701\n",
      "-2.98281\n",
      "-2.74714\n",
      "-2.78006\n",
      "1.28562\n",
      "-1.99114\n",
      "-0.502616\n",
      "0.0648\n",
      "-2.8976\n",
      "0.578863\n",
      "-0.432729\n",
      "1.24715\n",
      "-2.07352\n",
      "-1.2829\n",
      "-0.767966\n",
      "0.402292\n",
      "-1.08964\n",
      "-2.51848\n",
      "1.13868\n",
      "-2.78818\n",
      "0.885661\n",
      "1.17878\n",
      "2.21258\n",
      "-3.03751\n",
      "-4.48214\n",
      "-0.795275\n",
      "1.24583\n",
      "-2.75781\n",
      "-0.73852\n",
      "-2.49311\n",
      "-1.53536\n",
      "2.14749\n",
      "-2.22557\n",
      "1.50089\n",
      "-3.85013\n",
      "-2.94572\n",
      "0.393954\n",
      "1.52977\n",
      "-0.444409\n",
      "-1.71511\n",
      "-0.725279\n",
      "-1.18237\n",
      "1.35901\n",
      "-0.249463\n",
      "1.80716\n",
      "-2.48202\n",
      "-2.45622\n",
      "-0.323205\n",
      "1.03347\n",
      "2.67015\n",
      "1.04949\n",
      "1.79303\n",
      "-2.22034\n",
      "-1.34251\n",
      "-1.43461\n",
      "1.87725\n",
      "-0.157645\n",
      "-1.33873\n",
      "-2.22724\n",
      "0.267442\n",
      "-1.31982\n",
      "-1.8123\n",
      "-2.99688\n",
      "0.0233159\n",
      "-1.86039\n",
      "0.41662\n",
      "-0.273698\n",
      "-3.21509\n",
      "-2.81284\n",
      "-2.98691\n",
      "-2.72657\n",
      "2.0859\n",
      "-0.116366\n",
      "-0.170276\n",
      "-5.10415\n",
      "0.235089\n",
      "-2.72046\n",
      "-0.562438\n",
      "-5.03329\n",
      "-2.95906\n",
      "-0.210377\n",
      "2.87476\n",
      "-2.23529\n",
      "-0.847223\n",
      "-1.7696\n",
      "0.524641\n",
      "-0.450926\n",
      "-3.03521\n",
      "-0.693118\n",
      "2.47533\n",
      "-0.391558\n",
      "-1.90443\n",
      "0.744957\n",
      "1.01337\n",
      "0.776024\n",
      "-0.117613\n",
      "-0.619877\n",
      "-1.1962\n",
      "1.95817\n",
      "0.0236406\n",
      "-2.3662\n",
      "-0.0990171\n",
      "-0.89484\n",
      "-0.387163\n",
      "-5.2117\n",
      "0.994792\n",
      "-1.38026\n",
      "1.0031\n",
      "-2.27146\n",
      "-1.46316\n",
      "-0.71652\n",
      "1.25069\n",
      "-1.35691\n",
      "-1.19976\n",
      "1.45458\n",
      "-0.0703789\n",
      "2.95404\n",
      "-0.416632\n",
      "1.20926\n",
      "-0.370883\n",
      "3.48037\n",
      "-1.63236\n",
      "0.104509\n",
      "-0.625705\n",
      "0.0153718\n",
      "-2.7754\n",
      "-1.5025\n",
      "1.26418\n",
      "0.712915\n",
      "-0.295442\n",
      "-5.12135\n",
      "0.540513\n",
      "-3.73278\n",
      "1.88755\n",
      "-2.38906\n",
      "0.277997\n",
      "0.995305\n",
      "-0.426591\n",
      "0.494259\n",
      "1.26576\n",
      "0.89183\n",
      "-0.0118271\n",
      "-3.24804\n",
      "3.36766\n",
      "-3.11013\n",
      "-3.1668\n",
      "-3.04817\n",
      "-0.198233\n",
      "0.533246\n",
      "0.62057\n",
      "-0.693762\n",
      "-0.340583\n",
      "0.540641\n",
      "0.53939\n",
      "2.87533\n",
      "-0.289945\n",
      "-0.427596\n",
      "-1.3149\n",
      "0.0383359\n",
      "0.818111\n",
      "-0.458681\n",
      "5.39049\n",
      "2.32648\n",
      "0.187551\n",
      "1.08483\n",
      "-0.0763508\n",
      "-0.0946682\n",
      "0.123049\n",
      "-0.285207\n",
      "-1.65629\n",
      "-0.762567\n",
      "-1.36816\n",
      "0.38111\n",
      "1.23455\n",
      "-3.96597\n",
      "-3.89821\n",
      "-2.61345\n",
      "-2.22165\n",
      "-4.00636\n",
      "-2.54304\n",
      "1.7977\n",
      "-1.35777\n",
      "-1.42454\n",
      "-0.341757\n",
      "4.17195\n",
      "1.02707\n",
      "-2.243\n",
      "-1.22212\n",
      "0.00293636\n",
      "-1.82861\n",
      "-1.55757\n",
      "0.146697\n",
      "-1.98355\n",
      "-4.04198\n",
      "0.126143\n",
      "0.763227\n",
      "-3.87767\n",
      "-2.01623\n",
      "-2.46999\n",
      "-1.51561\n",
      "-1.53414\n",
      "-1.69333\n",
      "-2.82819\n",
      "-6.00585\n",
      "-3.03441\n",
      "-2.49417\n",
      "0.158068\n",
      "1.13497\n",
      "0.512802\n",
      "-3.76394\n",
      "-2.03317\n",
      "-3.08065\n",
      "-5.48259\n",
      "0.510885\n",
      "0.837187\n",
      "-3.69927\n",
      "-1.62241\n",
      "-4.22551\n",
      "-1.36702\n",
      "-1.69623\n",
      "3.19551\n",
      "1.98835\n",
      "-3.39136\n",
      "2.52937\n",
      "2.77537\n",
      "-0.990159\n",
      "-0.51101\n",
      "-5.90972\n",
      "-2.99528\n",
      "-4.84622\n",
      "-1.84067\n",
      "0.768293\n",
      "-2.37323\n",
      "-2.11502\n",
      "0.00519883\n",
      "-0.870132\n",
      "-2.2145\n",
      "-0.560622\n",
      "-0.850823\n",
      "-2.57447\n",
      "1.15427\n",
      "1.6797\n",
      "-5.92393\n",
      "-0.138423\n",
      "0.887481\n",
      "-0.612672\n",
      "-2.85672\n",
      "-6.09622\n",
      "-4.01437\n",
      "1.28153\n",
      "1.14925\n",
      "-1.18006\n",
      "-2.06669\n",
      "-3.50525\n",
      "2.4697\n",
      "-2.06676\n",
      "-3.53424\n",
      "-0.72725\n",
      "0.342314\n",
      "-1.65011\n",
      "2.22019\n",
      "-0.196052\n",
      "-4.87812\n",
      "-5.67449\n",
      "-1.96087\n",
      "-1.21919\n",
      "-2.35604\n",
      "-4.10166\n",
      "-0.634894\n",
      "-1.7269\n",
      "1.36173\n",
      "-0.0658891\n",
      "-4.18146  \n",
      "]"
     ],
     "language": "python",
     "metadata": {},
     "outputs": [
      {
       "metadata": {},
       "output_type": "pyout",
       "prompt_number": 138,
       "text": [
        "300-element Array{Float64,1}:\n",
        " -3.17715  \n",
        "  1.83922  \n",
        "  0.0369458\n",
        " -2.55671  \n",
        " -1.17952  \n",
        "  1.19443  \n",
        " -2.92368  \n",
        " -2.89425  \n",
        " -3.93744  \n",
        "  0.431231 \n",
        "  1.46329  \n",
        " -0.423485 \n",
        "  0.392936 \n",
        "  \u22ee        \n",
        " -0.196052 \n",
        " -4.87812  \n",
        " -5.67449  \n",
        " -1.96087  \n",
        " -1.21919  \n",
        " -2.35604  \n",
        " -4.10166  \n",
        " -0.634894 \n",
        " -1.7269   \n",
        "  1.36173  \n",
        " -0.0658891\n",
        " -4.18146  "
       ]
      }
     ],
     "prompt_number": 138
    },
    {
     "cell_type": "code",
     "collapsed": false,
     "input": [
      "cor(aHat_reorder,aHatBolt)"
     ],
     "language": "python",
     "metadata": {},
     "outputs": [
      {
       "metadata": {},
       "output_type": "pyout",
       "prompt_number": 141,
       "text": [
        "0.9963142446624603"
       ]
      }
     ],
     "prompt_number": 141
    }
   ],
   "metadata": {}
  }
 ]
}