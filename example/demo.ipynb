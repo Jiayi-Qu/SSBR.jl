{
 "cells": [
  {
   "cell_type": "code",
   "execution_count": 1,
   "metadata": {
    "collapsed": false
   },
   "outputs": [],
   "source": [
    "HOME=\"/Users/haocheng/Github/SSBR.jl\"\n",
    "cd(HOME)\n",
    "#include(\"src/SSBR.jl\")"
   ]
  },
  {
   "cell_type": "code",
   "execution_count": 2,
   "metadata": {
    "collapsed": false
   },
   "outputs": [
    {
     "name": "stderr",
     "output_type": "stream",
     "text": [
      "INFO: Removing SSBR (unregistered)\n"
     ]
    }
   ],
   "source": [
    "#Pkg.rm(\"SSBR\")\n",
    "#Pkg.clone(\"https://github.com/reworkhow/SSBR.jl.git\")"
   ]
  },
  {
   "cell_type": "code",
   "execution_count": null,
   "metadata": {
    "collapsed": false
   },
   "outputs": [],
   "source": [
    "using SSBR\n",
    "\n",
    "ped,A_Mats,numSSBayes = calc_Ai(\"example/ped.txt\",\"example/genotype.ID\")\n",
    "df    = read_genotypes(\"example/genotype.txt\",numSSBayes,centering=true);"
   ]
  },
  {
   "cell_type": "code",
   "execution_count": 5,
   "metadata": {
    "collapsed": false
   },
   "outputs": [],
   "source": [
    "M_Mats = make_MMats(df,A_Mats,ped)\n",
    "y_Vecs = make_yVecs(\"example/phenotype.txt\",ped,numSSBayes)\n",
    "J_Vecs = make_JVecs(numSSBayes,A_Mats)\n",
    "Z_Mats = make_ZMats(ped,y_Vecs,numSSBayes)\n",
    "X_Mats, W_Mats = make_XWMats(J_Vecs,Z_Mats,M_Mats,numSSBayes);"
   ]
  },
  {
   "cell_type": "code",
   "execution_count": null,
   "metadata": {
    "collapsed": true
   },
   "outputs": [],
   "source": [
    "#Gibbs sampler\n",
    "nIter  = 50000\n",
    "vRes   = 1.0\n",
    "vG     = 1.0\n",
    "aHat,alphaHat,betaHat,epsiHat=ssGibbs(M_Mats,y_Vecs,J_Vecs,Z_Mats,X_Mats,W_Mats,A_Mats,numSSBayes,vRes,vG,nIter);"
   ]
  },
  {
   "cell_type": "code",
   "execution_count": 6,
   "metadata": {
    "collapsed": false
   },
   "outputs": [],
   "source": [
    "#Mixed Model Equation\n",
    "vRes   = 1.0\n",
    "vG     = 1.0\n",
    "aHat2,alphaHat2,betaHat2,epsiHat2=ssMME(M_Mats,y_Vecs,J_Vecs,Z_Mats,X_Mats,W_Mats,A_Mats,numSSBayes,vRes,vG);"
   ]
  },
  {
   "cell_type": "code",
   "execution_count": null,
   "metadata": {
    "collapsed": false
   },
   "outputs": [],
   "source": [
    "#check accuracy\n",
    "df = readtable(\"example/bv.txt\", eltypes =[UTF8String, Float64], separator = ' ',header=false)\n",
    "a  = Array(Float64,numSSBayes.num_ped)\n",
    "for (i,ID) in enumerate(df[:,1])\n",
    "     j = ped.idMap[ID].seqID\n",
    "     a[j] = df[i,2]\n",
    "end\n",
    "cor(a,aHat)"
   ]
  }
 ],
 "metadata": {
  "kernelspec": {
   "display_name": "Julia 0.3.5",
   "language": "julia",
   "name": "julia-0.3"
  },
  "language_info": {
   "name": "julia",
   "version": "0.3.5"
  }
 },
 "nbformat": 4,
 "nbformat_minor": 0
}
