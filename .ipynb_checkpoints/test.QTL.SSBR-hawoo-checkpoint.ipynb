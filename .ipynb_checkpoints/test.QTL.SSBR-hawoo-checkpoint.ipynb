{
 "cells": [
  {
   "cell_type": "code",
   "execution_count": 1,
   "metadata": {
    "collapsed": false
   },
   "outputs": [
    {
     "data": {
      "text/plain": [
       "QTL"
      ]
     },
     "execution_count": 1,
     "metadata": {},
     "output_type": "execute_result"
    }
   ],
   "source": [
    "include(\"../QTL.jl/src/QTL.jl\")"
   ]
  },
  {
   "cell_type": "code",
   "execution_count": 2,
   "metadata": {
    "collapsed": false
   },
   "outputs": [
    {
     "data": {
      "text/plain": [
       "SSBR"
      ]
     },
     "execution_count": 2,
     "metadata": {},
     "output_type": "execute_result"
    }
   ],
   "source": [
    "include(\"../SSBR.jl/src/SSBR.jl\")"
   ]
  },
  {
   "cell_type": "code",
   "execution_count": 3,
   "metadata": {
    "collapsed": false
   },
   "outputs": [],
   "source": [
    "using QTL"
   ]
  },
  {
   "cell_type": "code",
   "execution_count": 4,
   "metadata": {
    "collapsed": false
   },
   "outputs": [],
   "source": [
    "using SSBR"
   ]
  },
  {
   "cell_type": "code",
   "execution_count": 5,
   "metadata": {
    "collapsed": false
   },
   "outputs": [
    {
     "data": {
      "text/plain": [
       "\"../HanwooSNP/BFT/BFT.v1\""
      ]
     },
     "execution_count": 5,
     "metadata": {},
     "output_type": "execute_result"
    }
   ],
   "source": [
    "#file=\"/Users/haocheng/.julia/v0.4/SSBR/\"\n",
    "file=\"../HanwooSNP/\"\n",
    "PhenoFile=file*\"BFT/BFT.t1\"\n",
    "GenoFile =file*\"SNP.txt\"\n",
    "PedFile  =file*\"PED.txt\"\n",
    "Validation = file*\"BFT/BFT.v1\""
   ]
  },
  {
   "cell_type": "code",
   "execution_count": 6,
   "metadata": {
    "collapsed": false
   },
   "outputs": [
    {
     "data": {
      "text/plain": [
       "QTL.InputParameters(\"BayesC\",50000,0.95,1.0,1.0,true,false,false,4.0,4.0,4.0)"
      ]
     },
     "execution_count": 6,
     "metadata": {},
     "output_type": "execute_result"
    }
   ],
   "source": [
    "input=InputParameters()"
   ]
  },
  {
   "cell_type": "code",
   "execution_count": 7,
   "metadata": {
    "collapsed": false
   },
   "outputs": [
    {
     "data": {
      "text/plain": [
       "11-element Array{Symbol,1}:\n",
       " :method          \n",
       " :chainLength     \n",
       " :probFixed       \n",
       " :varGenotypic    \n",
       " :varResidual     \n",
       " :estimateVariance\n",
       " :estimatePi      \n",
       " :estimateScale   \n",
       " :dfEffectVar     \n",
       " :nuRes           \n",
       " :nuGen           "
      ]
     },
     "execution_count": 7,
     "metadata": {},
     "output_type": "execute_result"
    }
   ],
   "source": [
    "fieldnames(input)"
   ]
  },
  {
   "cell_type": "code",
   "execution_count": 8,
   "metadata": {
    "collapsed": false
   },
   "outputs": [],
   "source": [
    "input.varGenotypic = 4.48\n",
    "input.varResidual  = 6.72\n",
    "input.probFixed = 0.0;\n",
    "input.chainLength=50000"
   ]
  },
  {
   "cell_type": "code",
   "execution_count": 9,
   "metadata": {
    "collapsed": false
   },
   "outputs": [],
   "source": [
    "fixed=FixedMatrix(ones(90,1),[0]);"
   ]
  },
  {
   "cell_type": "code",
   "execution_count": 10,
   "metadata": {
    "collapsed": false
   },
   "outputs": [
    {
     "name": "stdout",
     "output_type": "stream",
     "text": [
      " 78"
     ]
    }
   ],
   "source": [
    "@time ped,geno,hmats =SSBR.make_matrices_hybrid(PedFile,GenoFile,PhenoFile);"
   ]
  },
  {
   "cell_type": "code",
   "execution_count": 13,
   "metadata": {
    "collapsed": false
   },
   "outputs": [
    {
     "data": {
      "text/plain": [
       "1x1 Array{Float64,2}:\n",
       " 0.0"
      ]
     },
     "execution_count": 13,
     "metadata": {},
     "output_type": "execute_result"
    }
   ],
   "source": [
    "hmats.M.g=zeros(1,1)\n",
    "hmats.M.n=zeros(1,1)"
   ]
  },
  {
   "cell_type": "code",
   "execution_count": 14,
   "metadata": {
    "collapsed": false
   },
   "outputs": [
    {
     "name": "stdout",
     "output_type": "stream",
     "text": [
      ".999735 seconds (275.81 M allocations: 27.987 GB, 1.97% gc time)\n"
     ]
    }
   ],
   "source": [
    "gc()"
   ]
  },
  {
   "cell_type": "code",
   "execution_count": 25,
   "metadata": {
    "collapsed": false
   },
   "outputs": [
    {
     "data": {
      "text/plain": [
       "50000"
      ]
     },
     "execution_count": 25,
     "metadata": {},
     "output_type": "execute_result"
    }
   ],
   "source": [
    "input.chainLength=50000"
   ]
  },
  {
   "cell_type": "code",
   "execution_count": 26,
   "metadata": {
    "collapsed": false
   },
   "outputs": [
    {
     "name": "stdout",
     "output_type": "stream",
     "text": [
      "running BayesC with a MCMC of length 50000\n",
      "This is iteration 5000 with residual variance 26.019789567246487 and marker variance 6.87099114246577e-5\n",
      "This is iteration 10000 with residual variance 25.42791787781087 and marker variance 7.057642340908786e-5\n",
      "This is iteration 15000 with residual variance 28.129385962396988 and marker variance 7.595575489176867e-5\n",
      "This is iteration 20000 with residual variance 27.332345060208482 and marker variance 9.43356865229943e-5\n",
      "This is iteration 25000 with residual variance 27.392731152640366 and marker variance 0.00010422454560668473\n",
      "This is iteration 30000 with residual variance 27.068934495429374 and marker variance 7.019207604411986e-5\n",
      "This is iteration 35000 with residual variance 26.731250763141173 and marker variance 3.522465871969379e-5\n",
      "This is iteration 40000 with residual variance 25.245237505698366 and marker variance 6.0254305007148006e-5\n",
      "This is iteration 45000 with residual variance 25.880925203287994 and marker variance 6.0593415859713196e-5\n",
      "This is iteration 50000 with residual variance 25.916108183828324 and marker variance 4.348034956246184e-5\n",
      "5396.191846 seconds (56.68 G allocations: 1.233 TB, 2.31% gc time)\n"
     ]
    }
   ],
   "source": [
    "@time out =SSBR.ssBayesC(hmats,geno,fixed,ped,input,outFreq=5000);"
   ]
  },
  {
   "cell_type": "code",
   "execution_count": 17,
   "metadata": {
    "collapsed": false
   },
   "outputs": [],
   "source": [
    "#@time out =SSBR.ssBayesC_constantvariance(hmats,geno,fixed,ped,input,outFreq=10);"
   ]
  },
  {
   "cell_type": "code",
   "execution_count": 28,
   "metadata": {
    "collapsed": false
   },
   "outputs": [],
   "source": [
    "using DataFrames\n",
    "df = readtable(Validation, eltypes =[UTF8String, Float64], separator = ' ',header=false,names=[:ID,:EBV]);"
   ]
  },
  {
   "cell_type": "code",
   "execution_count": 29,
   "metadata": {
    "collapsed": false
   },
   "outputs": [],
   "source": [
    "comp=join(out,df,on=:ID);"
   ]
  },
  {
   "cell_type": "code",
   "execution_count": 30,
   "metadata": {
    "collapsed": false
   },
   "outputs": [
    {
     "data": {
      "text/plain": [
       "0.19023841242575387"
      ]
     },
     "execution_count": 30,
     "metadata": {},
     "output_type": "execute_result"
    }
   ],
   "source": [
    "cor(comp[:EBV],comp[:EBV_1])"
   ]
  }
 ],
 "metadata": {
  "kernelspec": {
   "display_name": "Julia 0.4.0",
   "language": "julia",
   "name": "julia-0.4"
  },
  "language_info": {
   "file_extension": ".jl",
   "mimetype": "application/julia",
   "name": "julia",
   "version": "0.4.0"
  }
 },
 "nbformat": 4,
 "nbformat_minor": 0
}
