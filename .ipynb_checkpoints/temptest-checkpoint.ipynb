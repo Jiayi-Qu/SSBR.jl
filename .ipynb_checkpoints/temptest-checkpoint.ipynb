{
 "cells": [
  {
   "cell_type": "code",
   "execution_count": 1,
   "metadata": {
    "collapsed": false
   },
   "outputs": [
    {
     "data": {
      "text/plain": [
       "QTL"
      ]
     },
     "execution_count": 1,
     "metadata": {},
     "output_type": "execute_result"
    }
   ],
   "source": [
    "include(\"../QTL.jl/src/QTL.jl\")"
   ]
  },
  {
   "cell_type": "code",
   "execution_count": 2,
   "metadata": {
    "collapsed": false
   },
   "outputs": [
    {
     "data": {
      "text/plain": [
       "SSBR"
      ]
     },
     "execution_count": 2,
     "metadata": {},
     "output_type": "execute_result"
    }
   ],
   "source": [
    "include(\"../SSBR.jl/src/SSBR.jl\")"
   ]
  },
  {
   "cell_type": "code",
   "execution_count": 3,
   "metadata": {
    "collapsed": false
   },
   "outputs": [],
   "source": [
    "using QTL"
   ]
  },
  {
   "cell_type": "code",
   "execution_count": 4,
   "metadata": {
    "collapsed": false
   },
   "outputs": [],
   "source": [
    "using SSBR"
   ]
  },
  {
   "cell_type": "code",
   "execution_count": 5,
   "metadata": {
    "collapsed": false
   },
   "outputs": [
    {
     "data": {
      "text/plain": [
       "\"../SSBR.jl/example/phenotype.txt\""
      ]
     },
     "execution_count": 5,
     "metadata": {},
     "output_type": "execute_result"
    }
   ],
   "source": [
    "file=\"../SSBR.jl/\"\n",
    "pedfile=file*\"example/ped.txt\"\n",
    "genofile=file*\"example/genotype.txt\"\n",
    "phenofile=file*\"example/phenotype.txt\""
   ]
  },
  {
   "cell_type": "code",
   "execution_count": 6,
   "metadata": {
    "collapsed": false
   },
   "outputs": [
    {
     "data": {
      "text/plain": [
       "QTL.InputParameters(\"BayesC\",50000,0.95,1.0,1.0,true,false,false,4.0,4.0,4.0)"
      ]
     },
     "execution_count": 6,
     "metadata": {},
     "output_type": "execute_result"
    }
   ],
   "source": [
    "input=InputParameters()"
   ]
  },
  {
   "cell_type": "code",
   "execution_count": 7,
   "metadata": {
    "collapsed": false
   },
   "outputs": [
    {
     "data": {
      "text/plain": [
       "50000"
      ]
     },
     "execution_count": 7,
     "metadata": {},
     "output_type": "execute_result"
    }
   ],
   "source": [
    "input.varGenotypic = 1.0\n",
    "input.varResidual  = 1.0\n",
    "input.probFixed = 0.0;\n",
    "input.chainLength=50000"
   ]
  },
  {
   "cell_type": "code",
   "execution_count": 8,
   "metadata": {
    "collapsed": false
   },
   "outputs": [],
   "source": [
    "fixed=FixedMatrix(ones(90,1),[0]);"
   ]
  },
  {
   "cell_type": "code",
   "execution_count": 9,
   "metadata": {
    "collapsed": false
   },
   "outputs": [],
   "source": [
    "ped,geno,hmats =SSBR.make_matrices_hybrid(pedfile,genofile,phenofile);"
   ]
  },
  {
   "cell_type": "code",
   "execution_count": 10,
   "metadata": {
    "collapsed": false
   },
   "outputs": [
    {
     "data": {
      "text/plain": [
       "QTL.InputParameters(\"BayesC\",50000,0.0,1.0,1.0,true,false,false,4.0,4.0,4.0)"
      ]
     },
     "execution_count": 10,
     "metadata": {},
     "output_type": "execute_result"
    }
   ],
   "source": [
    "#input.probFixed = 0.5;\n",
    "input"
   ]
  },
  {
   "cell_type": "code",
   "execution_count": 11,
   "metadata": {
    "collapsed": false
   },
   "outputs": [],
   "source": [
    "#out =SSBR.ssBayesC0(hmats,geno,fixed,ped,input,outFreq=25000);"
   ]
  },
  {
   "cell_type": "code",
   "execution_count": 12,
   "metadata": {
    "collapsed": false
   },
   "outputs": [],
   "source": [
    "#out2 =SSBR.ssBayesC0_constantvariance(hmats,geno,fixed,ped,input,outFreq=25000);"
   ]
  },
  {
   "cell_type": "code",
   "execution_count": 19,
   "metadata": {
    "collapsed": false
   },
   "outputs": [
    {
     "name": "stdout",
     "output_type": "stream",
     "text": [
      "running BayesC with a MCMC of length 50000\n",
      "This is iteration 5000 with 9 loci included in the model, mean residual/marker effect/genetic(imputation) variance  1.226/ 2.221/ 6.491.\n",
      "This is iteration 10000 with 9 loci included in the model, mean residual/marker effect/genetic(imputation) variance  1.222/ 2.214/ 6.509.\n",
      "This is iteration 15000 with 9 loci included in the model, mean residual/marker effect/genetic(imputation) variance  1.218/ 2.212/ 6.506.\n",
      "This is iteration 20000 with 9 loci included in the model, mean residual/marker effect/genetic(imputation) variance  1.217/ 2.213/ 6.490.\n",
      "This is iteration 25000 with 9 loci included in the model, mean residual/marker effect/genetic(imputation) variance  1.218/ 2.209/ 6.487.\n",
      "This is iteration 30000 with 9 loci included in the model, mean residual/marker effect/genetic(imputation) variance  1.217/ 2.210/ 6.488.\n",
      "This is iteration 35000 with 9 loci included in the model, mean residual/marker effect/genetic(imputation) variance  1.217/ 2.208/ 6.489.\n",
      "This is iteration 40000 with 9 loci included in the model, mean residual/marker effect/genetic(imputation) variance  1.216/ 2.209/ 6.493.\n",
      "This is iteration 45000 with 9 loci included in the model, mean residual/marker effect/genetic(imputation) variance  1.215/ 2.211/ 6.491.\n",
      "This is iteration 50000 with 9 loci included in the model, mean residual/marker effect/genetic(imputation) variance  1.214/ 2.212/ 6.492.\n"
     ]
    }
   ],
   "source": [
    "input.probFixed = 0.9;\n",
    "input.chainLength=50000\n",
    "\n",
    "#out =SSBR.ssBayesB(hmats,geno,fixed,ped,input,outFreq=5000);\n",
    "out =SSBR.ssBayesC(hmats,geno,fixed,ped,input,outFreq=5000);"
   ]
  },
  {
   "cell_type": "code",
   "execution_count": 14,
   "metadata": {
    "collapsed": false
   },
   "outputs": [],
   "source": [
    "using DataFrames\n",
    "df = readtable(file*\"example/bv.txt\", eltypes =[UTF8String, Float64], separator = ' ',header=false,names=[:ID,:EBV]);"
   ]
  },
  {
   "cell_type": "code",
   "execution_count": 15,
   "metadata": {
    "collapsed": false
   },
   "outputs": [
    {
     "name": "stdout",
     "output_type": "stream",
     "text": [
      " with 9 loci included in the model, mean residual/marker effect/genetic(imputation) variance  1.343/ 2.185/ 6.373.\n",
      "This is iteration 470 with 9 loci included in the model, mean residual/marker effect/genetic(imputation) variance  1.338/ 2.177/ 6.369.\n",
      "This is iteration 480 with 9 loci included in the model, mean residual/marker effect/genetic(imputation) variance  1.335/ 2.175/ 6.373.\n",
      "This is iteration 490 with 9 loci included in the model, mean residual/marker effect/genetic(imputation) variance  1.333/ 2.167/ 6.392.\n",
      "This is iteration 500 with 9 loci included in the model, mean residual/marker effect/genetic(imputation) variance  1.329/ 2.165/ 6.419.\n"
     ]
    }
   ],
   "source": [
    "comp=join(out,df,on=:ID);"
   ]
  },
  {
   "cell_type": "code",
   "execution_count": 16,
   "metadata": {
    "collapsed": false
   },
   "outputs": [
    {
     "data": {
      "text/plain": [
       "0.9611632035258978"
      ]
     },
     "execution_count": 16,
     "metadata": {},
     "output_type": "execute_result"
    }
   ],
   "source": [
    "cor(comp[:EBV],comp[:EBV_1])"
   ]
  },
  {
   "cell_type": "code",
   "execution_count": 17,
   "metadata": {
    "collapsed": false
   },
   "outputs": [
    {
     "ename": "LoadError",
     "evalue": "LoadError: UndefVarError: out2 not defined\nwhile loading In[17], in expression starting on line 1",
     "output_type": "error",
     "traceback": [
      "LoadError: UndefVarError: out2 not defined\nwhile loading In[17], in expression starting on line 1",
      ""
     ]
    }
   ],
   "source": [
    "comp=join(out2,df,on=:ID);"
   ]
  },
  {
   "cell_type": "code",
   "execution_count": 18,
   "metadata": {
    "collapsed": false
   },
   "outputs": [
    {
     "data": {
      "text/plain": [
       "0.9611632035258978"
      ]
     },
     "execution_count": 18,
     "metadata": {},
     "output_type": "execute_result"
    }
   ],
   "source": [
    "cor(comp[:EBV],comp[:EBV_1])"
   ]
  }
 ],
 "metadata": {
  "kernelspec": {
   "display_name": "Julia 0.4.0",
   "language": "julia",
   "name": "julia-0.4"
  },
  "language_info": {
   "file_extension": ".jl",
   "mimetype": "application/julia",
   "name": "julia",
   "version": "0.4.0"
  }
 },
 "nbformat": 4,
 "nbformat_minor": 0
}
